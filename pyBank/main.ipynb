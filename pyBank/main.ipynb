{
 "cells": [
  {
   "cell_type": "code",
   "execution_count": 12,
   "id": "0852e124-c02f-435d-bc18-c0dcedbc2ef9",
   "metadata": {},
   "outputs": [
    {
     "name": "stdout",
     "output_type": "stream",
     "text": [
      "\n",
      "Financial Analysis\n",
      "--------------------------------\n",
      "\n",
      "Total Months : 86\n",
      "\n",
      "Total Profit/loss : $38382578 \n",
      "\n",
      "The average of the changes in Profit/Losses : 446309.05\n"
     ]
    }
   ],
   "source": [
    "# Import the pathlib and csv library\n",
    "from pathlib import Path\n",
    "import csv\n",
    "\n",
    "csvpath = Path('../pyBank/budget_data.csv')\n",
    "\n",
    "print('\\nFinancial Analysis')\n",
    "print('--------------------------------')\n",
    "\n",
    "profit_loss_list =[]\n",
    "line_num = 0\n",
    "total_profit_loss = 0\n",
    "count_loop = 0\n",
    "greatest_increase_in_profit = 0\n",
    "greatest_decrease_in_loss = 0\n",
    "\n",
    "with open(csvpath, 'r') as csvfile:\n",
    "    csvreader = csv.reader(csvfile, delimiter=',')\n",
    "\n",
    "    header = next(csvreader)\n",
    "    line_num += 1\n",
    "    \n",
    "    for row in csvreader:\n",
    "        profit_loss = int(row[1])\n",
    "        profit_loss_list.append(profit_loss)\n",
    "        \n",
    "for profit_loss in profit_loss_list:\n",
    "    total_profit_loss += profit_loss\n",
    "    count_loop += 1\n",
    "\n",
    "avg_Profit_loss = round(total_profit_loss / count_loop, 2)\n",
    "    \n",
    "    \n",
    "print(f\"\\nTotal Months : {count_loop}\")\n",
    "print(f\"\\nTotal Profit/loss : ${total_profit_loss} \")\n",
    "print(f\"\\nThe average of the changes in Profit/Losses : {avg_Profit_loss}\")\n",
    "\n",
    "    \n",
    "        \n",
    "\n",
    "            \n",
    "        \n"
   ]
  },
  {
   "cell_type": "code",
   "execution_count": null,
   "id": "cde5f087-529d-4402-91a3-65cd1df4cbdf",
   "metadata": {},
   "outputs": [],
   "source": []
  }
 ],
 "metadata": {
  "kernelspec": {
   "display_name": "Python 3 (ipykernel)",
   "language": "python",
   "name": "python3"
  },
  "language_info": {
   "codemirror_mode": {
    "name": "ipython",
    "version": 3
   },
   "file_extension": ".py",
   "mimetype": "text/x-python",
   "name": "python",
   "nbconvert_exporter": "python",
   "pygments_lexer": "ipython3",
   "version": "3.10.9"
  }
 },
 "nbformat": 4,
 "nbformat_minor": 5
}
